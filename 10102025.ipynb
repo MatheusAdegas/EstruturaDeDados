{
  "nbformat": 4,
  "nbformat_minor": 0,
  "metadata": {
    "colab": {
      "provenance": [],
      "authorship_tag": "ABX9TyO/CsecDDa01JGJ+T/dIDix",
      "include_colab_link": true
    },
    "kernelspec": {
      "name": "python3",
      "display_name": "Python 3"
    },
    "language_info": {
      "name": "python"
    }
  },
  "cells": [
    {
      "cell_type": "markdown",
      "metadata": {
        "id": "view-in-github",
        "colab_type": "text"
      },
      "source": [
        "<a href=\"https://colab.research.google.com/github/MatheusAdegas/EstruturaDeDados/blob/main/10102025.ipynb\" target=\"_parent\"><img src=\"https://colab.research.google.com/assets/colab-badge.svg\" alt=\"Open In Colab\"/></a>"
      ]
    },
    {
      "cell_type": "code",
      "execution_count": 22,
      "metadata": {
        "colab": {
          "base_uri": "https://localhost:8080/"
        },
        "id": "BqtvNCiHSHPF",
        "outputId": "51855b79-2eed-4f22-92df-e9aff09ca8f6"
      },
      "outputs": [
        {
          "output_type": "stream",
          "name": "stdout",
          "text": [
            "\n",
            "=== MENU DO CAIXA ELETRÔNICO === \n",
            "1 - Depositar\n",
            "2 - Sacar\n",
            "3 - Ver saldo\n",
            "4 - Ver histórico de transações\n",
            "5 - sair\n",
            "\n",
            "Escolha uma opção: 1\n",
            "Digite o valor a ser depositado: 69\n",
            "Depósito realizado com sucesso!\n",
            "\n",
            "=== MENU DO CAIXA ELETRÔNICO === \n",
            "1 - Depositar\n",
            "2 - Sacar\n",
            "3 - Ver saldo\n",
            "4 - Ver histórico de transações\n",
            "5 - sair\n",
            "\n",
            "Escolha uma opção: 1\n",
            "Digite o valor a ser depositado: 67\n",
            "Depósito realizado com sucesso!\n",
            "\n",
            "=== MENU DO CAIXA ELETRÔNICO === \n",
            "1 - Depositar\n",
            "2 - Sacar\n",
            "3 - Ver saldo\n",
            "4 - Ver histórico de transações\n",
            "5 - sair\n",
            "\n",
            "Escolha uma opção: 1\n",
            "Digite o valor a ser depositado: 420\n",
            "Depósito realizado com sucesso!\n",
            "\n",
            "=== MENU DO CAIXA ELETRÔNICO === \n",
            "1 - Depositar\n",
            "2 - Sacar\n",
            "3 - Ver saldo\n",
            "4 - Ver histórico de transações\n",
            "5 - sair\n",
            "\n",
            "Escolha uma opção: mustard\n",
            "Opção inválida!\n",
            "Escolha uma opção: 4\n",
            "\n",
            "depositos: [69.0, 67.0, 420.0]\n",
            "\n",
            "\n",
            "saques: []\n",
            "\n",
            "\n",
            "=== MENU DO CAIXA ELETRÔNICO === \n",
            "1 - Depositar\n",
            "2 - Sacar\n",
            "3 - Ver saldo\n",
            "4 - Ver histórico de transações\n",
            "5 - sair\n",
            "\n",
            "Escolha uma opção: 5\n",
            "Tenha um bom dia!\n"
          ]
        }
      ],
      "source": [
        "i = 0\n",
        "h = {\"depositos\":[], \"saques\":[]}\n",
        "saldo = 1000\n",
        "while i != 5:\n",
        "  print(\"\\n=== MENU DO CAIXA ELETRÔNICO === \\n1 - Depositar\\n2 - Sacar\\n3 - Ver saldo\\n4 - Ver histórico de transações\\n5 - sair\\n\")\n",
        "  i = input(\"Escolha uma opção: \")\n",
        "  while i != \"1\" and i != \"2\" and i != \"3\" and i != \"4\" and i != \"5\":\n",
        "    print(\"Opção inválida!\")\n",
        "    i = input(\"Escolha uma opção: \")\n",
        "  if i == \"1\":\n",
        "    deposito = float(input(\"Digite o valor a ser depositado: \"))\n",
        "    if deposito <= 0:\n",
        "      print(\"Valor inválido!\")\n",
        "    else:\n",
        "      saldo += deposito\n",
        "      h[\"depositos\"].append(deposito)\n",
        "    print(\"Depósito realizado com sucesso!\")\n",
        "  if i == \"2\":\n",
        "    saque = float(input(\"Digite o valor a ser sacado: \"))\n",
        "    if saque <= 0:\n",
        "      print(\"Valor inválido!\")\n",
        "    elif saque > saldo:\n",
        "      print(\"Saldo insuficiente!\")\n",
        "    else:\n",
        "      saldo -= saque\n",
        "      h[\"saques\"].append(-saque)\n",
        "  if i == \"3\":\n",
        "    print(saldo)\n",
        "  if i == \"4\":\n",
        "    for x in h:\n",
        "      print(f\"\\n{x}: {h[x]}\\n\")\n",
        "  if i == \"5\":\n",
        "    print(\"Tenha um bom dia!\")\n",
        "    break\n",
        "\n",
        "\n",
        ""
      ]
    }
  ]
}