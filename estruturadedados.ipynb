{
  "nbformat": 4,
  "nbformat_minor": 0,
  "metadata": {
    "colab": {
      "provenance": [],
      "authorship_tag": "ABX9TyNTmfUZxb/1h2LshfgpGAUN",
      "include_colab_link": true
    },
    "kernelspec": {
      "name": "python3",
      "display_name": "Python 3"
    },
    "language_info": {
      "name": "python"
    }
  },
  "cells": [
    {
      "cell_type": "markdown",
      "metadata": {
        "id": "view-in-github",
        "colab_type": "text"
      },
      "source": [
        "<a href=\"https://colab.research.google.com/github/MatheusAdegas/EstruturaDeDados/blob/main/estruturadedados.ipynb\" target=\"_parent\"><img src=\"https://colab.research.google.com/assets/colab-badge.svg\" alt=\"Open In Colab\"/></a>"
      ]
    },
    {
      "cell_type": "code",
      "execution_count": null,
      "metadata": {
        "colab": {
          "base_uri": "https://localhost:8080/"
        },
        "id": "gI0lPqnSN44Q",
        "outputId": "2b7197b4-88b1-49ce-a9c7-cd47234bd072"
      },
      "outputs": [
        {
          "output_type": "stream",
          "name": "stdout",
          "text": [
            "Qual o valor do produto? R$ 19\n",
            "R$ 17.1\n"
          ]
        }
      ],
      "source": [
        "v = float(input(\"Qual o valor do produto? R$ \"))\n",
        "print(f\"R$ {v*0.9}\")"
      ]
    },
    {
      "cell_type": "code",
      "source": [
        "v = int(input(\"Insira um numero inteiro \"))\n",
        "w = int(input(\"Insira um outro numero inteiro \"))\n",
        "iguais = v == w\n",
        "vMaior = v > w\n",
        "if iguais:\n",
        "  print(f\"{v} e {w} são iguais\")\n",
        "elif vMaior:\n",
        "  print(f\"{v} é maior que {w}\")\n",
        "else:\n",
        "  print(f\"{v} é menor que {w}\")"
      ],
      "metadata": {
        "colab": {
          "base_uri": "https://localhost:8080/"
        },
        "id": "HV3QVtNvOYs1",
        "outputId": "b933ad40-ff41-497a-b017-2966978d5232"
      },
      "execution_count": null,
      "outputs": [
        {
          "output_type": "stream",
          "name": "stdout",
          "text": [
            "Insira um numero inteiro 6\n",
            "Insira um outro numero inteiro 6\n",
            "6 e 6 são iguais\n"
          ]
        }
      ]
    },
    {
      "cell_type": "code",
      "source": [
        "def avaliar_idade(idade):\n",
        "  if idade < 12:\n",
        "    return \"Criança\"\n",
        "  elif idade < 18:\n",
        "    return \"Adolescente\"\n",
        "  elif idade < 65:\n",
        "    return \"Adulto\"\n",
        "  else:\n",
        "    return \"Idoso\"\n",
        "\n",
        "idade = int(input(\"Digite a idade: \"))\n",
        "print(avaliar_idade(idade))"
      ],
      "metadata": {
        "colab": {
          "base_uri": "https://localhost:8080/"
        },
        "id": "XaHL86_dPBVa",
        "outputId": "be126791-4edd-49da-97e6-ac93a636bab0"
      },
      "execution_count": null,
      "outputs": [
        {
          "output_type": "stream",
          "name": "stdout",
          "text": [
            "Digite a idade: 34\n",
            "Adulto\n"
          ]
        }
      ]
    },
    {
      "cell_type": "code",
      "source": [
        "l = [\"awa\", \"wewa\", \"awa\", \"wiwi\", \"waeo\"]\n",
        "# ver se há duplicatas\n",
        "\n",
        "for i in range(len(l)):\n",
        "  for j in range(i+1, len(l)):\n",
        "    if l[i] is l[j]:\n",
        "      print(f\"Há duplicatas na lista!\")\n"
      ],
      "metadata": {
        "colab": {
          "base_uri": "https://localhost:8080/"
        },
        "id": "I_ooo9asPBqB",
        "outputId": "e18683be-d731-42d4-d859-27cad6dd3c40"
      },
      "execution_count": null,
      "outputs": [
        {
          "output_type": "stream",
          "name": "stdout",
          "text": [
            "Há duplicatas na lista!\n"
          ]
        }
      ]
    },
    {
      "cell_type": "code",
      "source": [
        "ano = int(input(\"Digite um ano: \"))\n",
        "if ano % 4 == 0 and ano % 100 != 0 or ano % 400 == 0:\n",
        "  print(f\"{ano} é um ano bissexto\")\n",
        "else:\n",
        "  print(f\"{ano} não é um ano bissexto\")"
      ],
      "metadata": {
        "id": "lxqqrtjmPBsC"
      },
      "execution_count": null,
      "outputs": []
    },
    {
      "cell_type": "code",
      "source": [
        "# receba apenas inteiros positivos. Contar os pares de 0 até o numero recebido\n",
        "num = int(input(\"Digite um numero inteiro positivo: \"))\n",
        "while num < 0:\n",
        "  num = int(input(\"O numero nao pode ser negativo: \"))\n",
        "\n",
        "for i in range(0,num+1,2):\n",
        "  print(i)"
      ],
      "metadata": {
        "id": "7OwBblUePBwS",
        "outputId": "5a7bf66d-a27b-488a-8fc0-fcfadb58c3c1",
        "colab": {
          "base_uri": "https://localhost:8080/"
        }
      },
      "execution_count": 9,
      "outputs": [
        {
          "output_type": "stream",
          "name": "stdout",
          "text": [
            "Digite um numero inteiro positivo: -1\n",
            "O numero nao pode ser negativo: 6\n",
            "0\n",
            "2\n",
            "4\n",
            "6\n"
          ]
        }
      ]
    },
    {
      "cell_type": "code",
      "source": [
        "# função fatorial\n",
        "def fatorial(n):\n",
        "  f = 1\n",
        "  for i in range(1,n+1):\n",
        "    f *= i\n",
        "  return f\n",
        "\n",
        "print(fatorial(4))"
      ],
      "metadata": {
        "id": "4nzsjI9dr7AR",
        "outputId": "1e9ed928-d925-4970-b9b9-4f9dae382823",
        "colab": {
          "base_uri": "https://localhost:8080/"
        }
      },
      "execution_count": 14,
      "outputs": [
        {
          "output_type": "stream",
          "name": "stdout",
          "text": [
            "24\n"
          ]
        }
      ]
    },
    {
      "cell_type": "code",
      "source": [],
      "metadata": {
        "id": "o-kYuTp3r7G6"
      },
      "execution_count": null,
      "outputs": []
    }
  ]
}